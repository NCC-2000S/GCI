{
  "nbformat": 4,
  "nbformat_minor": 0,
  "metadata": {
    "colab": {
      "name": "Untitled1.ipynb",
      "provenance": [],
      "collapsed_sections": [],
      "authorship_tag": "ABX9TyOsCfAN7ZmBwvfQd5TIhm2E",
      "include_colab_link": true
    },
    "kernelspec": {
      "name": "python3",
      "display_name": "Python 3"
    }
  },
  "cells": [
    {
      "cell_type": "markdown",
      "metadata": {
        "id": "view-in-github",
        "colab_type": "text"
      },
      "source": [
        "<a href=\"https://colab.research.google.com/github/NCC-2000S/GCI/blob/master/gci.ipynb\" target=\"_parent\"><img src=\"https://colab.research.google.com/assets/colab-badge.svg\" alt=\"Open In Colab\"/></a>"
      ]
    },
    {
      "cell_type": "code",
      "metadata": {
        "id": "yGkjxZKwyqmB",
        "colab_type": "code",
        "colab": {
          "base_uri": "https://localhost:8080/",
          "height": 191
        },
        "outputId": "4e069943-6861-49e7-c98a-7e0a030d570a"
      },
      "source": [
        "import tensorflow as tf\n",
        "tf.logging.set_verbosity(tf.logging.ERROR)\n",
        "import numpy as np\n",
        "\n",
        "frequency_q=np.array([1,100,5,4,1000,11,10],dtype=float)\n",
        "energy_a=np.array([6.62,662,33.1,26.48,6620,72.82,66.2],dtype=float)\n",
        "\n",
        "for i,c in enumerate(height_q):\n",
        "  print(\" The energy of a photon with wavelength {} hertz is {}e-34\".format(c,energy_a[i]))\n",
        "\n",
        "g=tf.keras.layers.Dense(units=1,input_shape=[1])\n",
        "model=tf.keras.Sequential([g])\n",
        "\n",
        "model.compile(loss='mean_squared_error',optimizer=tf.keras.optimizers.Adam(0.1))\n",
        "\n",
        "history=model.fit(frequency_q,energy_a,epochs=500,verbose=False)\n",
        "print(\"Finished training model\")\n",
        "\n",
        "print(model.predict([10]))\n",
        "print(\"These are the layer variables:{}e-34\".format(g.get_weights()))\n"
      ],
      "execution_count": 13,
      "outputs": [
        {
          "output_type": "stream",
          "text": [
            " The energy of a photon with wavelength 0.0 hertz is 6.62e-34\n",
            " The energy of a photon with wavelength -6371000.0 hertz is 662.0e-34\n",
            " The energy of a photon with wavelength 500000.0 hertz is 33.1e-34\n",
            " The energy of a photon with wavelength 40000.0 hertz is 26.48e-34\n",
            " The energy of a photon with wavelength 123456.0 hertz is 6620.0e-34\n",
            " The energy of a photon with wavelength 111111.0 hertz is 72.82e-34\n",
            " The energy of a photon with wavelength 87654.0 hertz is 66.2e-34\n",
            "Finished training model\n",
            "[[73.07046]]\n",
            "These are the layer variables:[array([[6.6121845]], dtype=float32), array([6.948615], dtype=float32)]e-34\n"
          ],
          "name": "stdout"
        }
      ]
    }
  ]
}