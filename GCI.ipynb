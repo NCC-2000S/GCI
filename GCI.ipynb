{
  "nbformat": 4,
  "nbformat_minor": 0,
  "metadata": {
    "colab": {
      "name": "GCI.ipynb",
      "provenance": [],
      "collapsed_sections": [],
      "authorship_tag": "ABX9TyPoX2gsXxGaPfCwr2b2JdaT",
      "include_colab_link": true
    },
    "kernelspec": {
      "name": "python3",
      "display_name": "Python 3"
    }
  },
  "cells": [
    {
      "cell_type": "markdown",
      "metadata": {
        "id": "view-in-github",
        "colab_type": "text"
      },
      "source": [
        "<a href=\"https://colab.research.google.com/github/NCC-2000S/GCI/blob/master/GCI.ipynb\" target=\"_parent\"><img src=\"https://colab.research.google.com/assets/colab-badge.svg\" alt=\"Open In Colab\"/></a>"
      ]
    },
    {
      "cell_type": "code",
      "metadata": {
        "id": "yGkjxZKwyqmB",
        "colab_type": "code",
        "outputId": "ca46e356-fe3a-4f18-cca0-cbeeef3cafad",
        "colab": {
          "base_uri": "https://localhost:8080/",
          "height": 191
        }
      },
      "source": [
        "import tensorflow as tf\n",
        "tf.logging.set_verbosity(tf.logging.ERROR)\n",
        "#import tensorflow and ask it to log only error messages\n",
        "import numpy as np\n",
        "\n",
        "frequency_q=np.array([1,100,5,4,1000,11,10],dtype=float)\n",
        "energy_a=np.array([6.62,662,33.1,26.48,6620,72.82,66.2],dtype=float)\n",
        "#input values of features\n",
        "\n",
        "for i,c in enumerate(frequency_q):\n",
        "  print(\" The energy of a photon with wavelength {} hertz is {}e-34\".format(c,energy_a[i]))\n",
        "\n",
        "g=tf.keras.layers.Dense(units=1,input_shape=[1])\n",
        "\n",
        "#  Args-\n",
        "#  units-number of internal values the model returns\n",
        "#  input_shape-shape or dimension of input\n",
        " \n",
        "model=tf.keras.Sequential([g])\n",
        "#  a linear stack of layers\n",
        "\n",
        "model.compile(loss='mean_squared_error',optimizer=tf.keras.optimizers.Adam(0.1))\n",
        "#  compilation of model and loss calculation using adam optimizer with learning rate 0.1\n",
        "history=model.fit(frequency_q,energy_a,epochs=500,verbose=False)\n",
        "print(\"Finished training model\")\n",
        "\n",
        "print(model.predict([10]))\n",
        "print(\"These are the layer variables:{}e-34\".format(g.get_weights()))\n",
        "\n",
        "#  Returns the final predicted value\n"
      ],
      "execution_count": 0,
      "outputs": [
        {
          "output_type": "stream",
          "text": [
            " The energy of a photon with wavelength 1.0 hertz is 6.62e-34\n",
            " The energy of a photon with wavelength 100.0 hertz is 662.0e-34\n",
            " The energy of a photon with wavelength 5.0 hertz is 33.1e-34\n",
            " The energy of a photon with wavelength 4.0 hertz is 26.48e-34\n",
            " The energy of a photon with wavelength 1000.0 hertz is 6620.0e-34\n",
            " The energy of a photon with wavelength 11.0 hertz is 72.82e-34\n",
            " The energy of a photon with wavelength 10.0 hertz is 66.2e-34\n",
            "Finished training model\n",
            "[[72.886795]]\n",
            "These are the layer variables:[array([[6.6123924]], dtype=float32), array([6.762873], dtype=float32)]e-34\n"
          ],
          "name": "stdout"
        }
      ]
    }
  ]
}
